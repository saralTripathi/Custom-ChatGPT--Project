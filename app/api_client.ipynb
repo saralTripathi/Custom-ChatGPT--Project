{
 "cells": [
  {
   "cell_type": "code",
   "execution_count": null,
   "id": "b236432d",
   "metadata": {},
   "outputs": [],
   "source": [
    "import os\n",
    "from groq import Groq \n",
    "from dotenv import load_dotenv\n",
    "load_dotenv()"
   ]
  },
  {
   "cell_type": "code",
   "execution_count": null,
   "id": "efc9e8fa",
   "metadata": {},
   "outputs": [],
   "source": [
    "class GroqClient:\n",
    "\n",
    "    def __init__(self):\n",
    "\n",
    "        self.api_key = os.getenv(\"API_KEY\")\n",
    "        self.client = Groq(api_key=self.api_key)\n",
    "\n",
    "    def get_response(self, message):\n",
    "\n",
    "        chat_completion = self.client.chat.completions.create(\n",
    "            messages=message,\n",
    "            model=\"meta-llama/llama-4-scout-17b-16e-instruct\"\n",
    "        )\n",
    "\n",
    "        response = chat_completion.choices[0].message.content\n",
    "        return response\n",
    "    \n",
    "\n"
   ]
  },
  {
   "cell_type": "code",
   "execution_count": 3,
   "id": "dbb87f82",
   "metadata": {},
   "outputs": [],
   "source": [
    "c = GroqClient()"
   ]
  },
  {
   "cell_type": "code",
   "execution_count": null,
   "id": "2f9acd00",
   "metadata": {},
   "outputs": [
    {
     "data": {
      "text/plain": [
       "\"Hello! How can I assist you today? If you're up for it, let's share a light joke to start. Here it is:\\n\\nWhat do you call fake spaghetti?\\n\\nAn impasta.\\n\\nNow, how about you? How are you doing today?\""
      ]
     },
     "execution_count": 4,
     "metadata": {},
     "output_type": "execute_result"
    },
    {
     "ename": "",
     "evalue": "",
     "output_type": "error",
     "traceback": [
      "\u001b[1;31mThe Kernel crashed while executing code in the current cell or a previous cell. \n",
      "\u001b[1;31mPlease review the code in the cell(s) to identify a possible cause of the failure. \n",
      "\u001b[1;31mClick <a href='https://aka.ms/vscodeJupyterKernelCrash'>here</a> for more info. \n",
      "\u001b[1;31mView Jupyter <a href='command:jupyter.viewOutput'>log</a> for further details."
     ]
    }
   ],
   "source": [
    "c.get_response([\n",
    "    {\"role\":\"system\", \"content\": \"You are a helpful assistant.\"},\n",
    "    {\"role\":\"user\", \"content\":\"hi\"}\n",
    "])"
   ]
  }
 ],
 "metadata": {
  "kernelspec": {
   "display_name": ".venv",
   "language": "python",
   "name": "python3"
  },
  "language_info": {
   "codemirror_mode": {
    "name": "ipython",
    "version": 3
   },
   "file_extension": ".py",
   "mimetype": "text/x-python",
   "name": "python",
   "nbconvert_exporter": "python",
   "pygments_lexer": "ipython3",
   "version": "3.12.7"
  }
 },
 "nbformat": 4,
 "nbformat_minor": 5
}
