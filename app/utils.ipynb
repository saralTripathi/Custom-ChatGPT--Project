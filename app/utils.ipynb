{
 "cells": [
  {
   "cell_type": "code",
   "execution_count": 1,
   "id": "b26de7f5",
   "metadata": {},
   "outputs": [],
   "source": [
    "import logging, re"
   ]
  },
  {
   "cell_type": "code",
   "execution_count": 2,
   "id": "788f435c",
   "metadata": {},
   "outputs": [],
   "source": [
    "def log_error(message):\n",
    "\n",
    "    logger = logging.getLogger(__name__)\n",
    "    logger.error(message)"
   ]
  },
  {
   "cell_type": "code",
   "execution_count": 3,
   "id": "2d068588",
   "metadata": {},
   "outputs": [],
   "source": [
    "def format_response(response):\n",
    "\n",
    "    response = response.replace(\"\\n\",\" \")\n",
    "    response = re.sub(r'\\*\\*.*?\\*\\*', '',r'<strong>\\1</strong>', response)\n",
    "    response = re.sub(r'\\*.*?\\*', '', r'<em>\\1</em>', response)\n",
    "    response = re.sub(r'(?m)^\\s*-\\s*', lambda m: f'<h{len(m.group(1))}>{m.group(2)}</h{len(m.group(1))}>', response)\n",
    "\n",
    "    response = re.sub(r'(?m)^\\d+\\.\\s*', r'<li>\\1</li>', response)\n",
    "    response = re.sub(r'(?m)^\\s*(.*)', r'<li>\\1</li>', response)\n",
    "\n",
    "    if '</li>' in response:\n",
    "        response = f'<ul>{response}</ul>'\n",
    "\n",
    "    if \"'''\" in response:\n",
    "        parts = response.split(\"'''\")\n",
    "        formatted_response = \"\"\n",
    "        for i, part in enumerate(parts):\n",
    "            if i%2 == 1:\n",
    "                formatted_response += f'pre class=\"code-block\"<code>{part}</code></pre>'\n",
    "            else:\n",
    "                formatted_response += part.replace('\\n', '<br>')\n",
    "    \n",
    "    return formatted_response"
   ]
  },
  {
   "cell_type": "code",
   "execution_count": null,
   "id": "f311f828",
   "metadata": {},
   "outputs": [],
   "source": []
  }
 ],
 "metadata": {
  "kernelspec": {
   "display_name": ".venv",
   "language": "python",
   "name": "python3"
  },
  "language_info": {
   "codemirror_mode": {
    "name": "ipython",
    "version": 3
   },
   "file_extension": ".py",
   "mimetype": "text/x-python",
   "name": "python",
   "nbconvert_exporter": "python",
   "pygments_lexer": "ipython3",
   "version": "3.12.7"
  }
 },
 "nbformat": 4,
 "nbformat_minor": 5
}
