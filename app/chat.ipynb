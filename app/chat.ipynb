{
 "cells": [
  {
   "cell_type": "code",
   "execution_count": 1,
   "id": "f5723d71",
   "metadata": {},
   "outputs": [],
   "source": [
    "# app/chat.py\n",
    "\n",
    "from api_client import GroqClient\n",
    "\n",
    "class ChatManager:\n",
    "    \"\"\"Class to manage chat interactions.\"\"\"\n",
    "\n",
    "    def __init__(self):\n",
    "        self.client = GroqClient()  # Initialize the Groq client\n",
    "        self.conversation_history = []  # Store conversation history\n",
    "\n",
    "    def add_message(self, role, content):\n",
    "        \"\"\"Add a message to the conversation history.\"\"\"\n",
    "        self.conversation_history.append({\"role\": role, \"content\": content})\n",
    "\n",
    "    def get_response(self, user_message):\n",
    "        \"\"\"\n",
    "        Get a concise or detailed response based on user input.\n",
    "\n",
    "        :param user_message: The message input from the user.\n",
    "        :return: AI response as a string.\n",
    "        \"\"\"\n",
    "        # Add user's message to history\n",
    "        self.add_message(\"user\", user_message)\n",
    "\n",
    "        # Prepare messages for the API call based on user intent\n",
    "        if any(keyword in user_message.lower() for keyword in [\"what is\", \"define\"]):\n",
    "            prompt = f\"Provide a concise definition of: {user_message}\"\n",
    "        \n",
    "        elif \"explain\" in user_message.lower() or \"code\" in user_message.lower():\n",
    "            prompt = f\"Explain clearly with examples: {user_message}\"\n",
    "        \n",
    "        else:\n",
    "            prompt = f\"Respond concisely to: {user_message}\"\n",
    "\n",
    "        messages = [{\"role\": \"user\", \"content\": prompt}]\n",
    "\n",
    "        # Get AI response\n",
    "        ai_response = self.client.get_response(messages)\n",
    "\n",
    "        # Add AI's response to history\n",
    "        self.add_message(\"assistant\", ai_response)\n",
    "\n",
    "        return ai_response"
   ]
  },
  {
   "cell_type": "code",
   "execution_count": 2,
   "id": "08fbb9d2",
   "metadata": {},
   "outputs": [],
   "source": [
    "c = ChatManager()"
   ]
  },
  {
   "cell_type": "code",
   "execution_count": 3,
   "id": "6dc0efbf",
   "metadata": {},
   "outputs": [
    {
     "data": {
      "text/plain": [
       "'Hello! How are you today?'"
      ]
     },
     "execution_count": 3,
     "metadata": {},
     "output_type": "execute_result"
    }
   ],
   "source": [
    "c.get_response('hi')"
   ]
  }
 ],
 "metadata": {
  "kernelspec": {
   "display_name": ".venv",
   "language": "python",
   "name": "python3"
  },
  "language_info": {
   "codemirror_mode": {
    "name": "ipython",
    "version": 3
   },
   "file_extension": ".py",
   "mimetype": "text/x-python",
   "name": "python",
   "nbconvert_exporter": "python",
   "pygments_lexer": "ipython3",
   "version": "3.12.7"
  }
 },
 "nbformat": 4,
 "nbformat_minor": 5
}
