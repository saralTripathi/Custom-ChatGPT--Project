{
 "cells": [
  {
   "cell_type": "code",
   "execution_count": 3,
   "id": "c6b4da3a",
   "metadata": {},
   "outputs": [],
   "source": [
    "import logging\n",
    "import os\n",
    "from datetime import datetime "
   ]
  },
  {
   "cell_type": "code",
   "execution_count": null,
   "id": "803f896e",
   "metadata": {},
   "outputs": [
    {
     "ename": "",
     "evalue": "",
     "output_type": "error",
     "traceback": [
      "\u001b[1;31mThe Kernel crashed while executing code in the current cell or a previous cell. \n",
      "\u001b[1;31mPlease review the code in the cell(s) to identify a possible cause of the failure. \n",
      "\u001b[1;31mClick <a href='https://aka.ms/vscodeJupyterKernelCrash'>here</a> for more info. \n",
      "\u001b[1;31mView Jupyter <a href='command:jupyter.viewOutput'>log</a> for further details."
     ]
    }
   ],
   "source": [
    "class CustomLogger:\n",
    "    def __init__(self):\n",
    "        self.log_dir = 'logs'\n",
    "\n",
    "        os.makedirs(self.log_dir, exist_ok=True)\n",
    "\n",
    "        current_time_stamp = f\"{datetime.now().strftime('%Y-%m-%d-%H-%M-%S')}\"\n",
    "\n",
    "        self.log_file_name = f\"log_{current_time_stamp}.log\"\n",
    "        self.log_file_path = os.path.join(self.log_dir, self.log_file_name)\n",
    "        logging.basicConfig(filename=self.log_file_path,\n",
    "                            filemode='w',\n",
    "                            format='%(asctime)s - %(name)s - %(levelname)s - %(message)s',\n",
    "                            level=logging.INFO)\n",
    "        self.logger = logging.getLogger(__name__)\n",
    "\n",
    "    def get_logger(self):\n",
    "        return self.logger\n"
   ]
  },
  {
   "cell_type": "code",
   "execution_count": null,
   "id": "004713c9",
   "metadata": {},
   "outputs": [],
   "source": []
  }
 ],
 "metadata": {
  "kernelspec": {
   "display_name": ".venv",
   "language": "python",
   "name": "python3"
  },
  "language_info": {
   "codemirror_mode": {
    "name": "ipython",
    "version": 3
   },
   "file_extension": ".py",
   "mimetype": "text/x-python",
   "name": "python",
   "nbconvert_exporter": "python",
   "pygments_lexer": "ipython3",
   "version": "3.12.7"
  }
 },
 "nbformat": 4,
 "nbformat_minor": 5
}
