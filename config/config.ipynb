{
 "cells": [
  {
   "cell_type": "code",
   "execution_count": 1,
   "id": "59e16d26",
   "metadata": {},
   "outputs": [],
   "source": [
    "import os\n",
    "import yaml\n",
    "from dotenv import load_dotenv"
   ]
  },
  {
   "cell_type": "code",
   "execution_count": 2,
   "id": "08dca07c",
   "metadata": {},
   "outputs": [
    {
     "data": {
      "text/plain": [
       "True"
      ]
     },
     "execution_count": 2,
     "metadata": {},
     "output_type": "execute_result"
    }
   ],
   "source": [
    "load_dotenv()"
   ]
  },
  {
   "cell_type": "code",
   "execution_count": null,
   "id": "8cf87905",
   "metadata": {},
   "outputs": [],
   "source": [
    "class AppConfig:\n",
    "    def __init__(self):\n",
    "        self.config = self.load_config()\n",
    "    \n",
    "    def load_config(self):\n",
    "\n",
    "        with open('config.yaml','r') as file:\n",
    "            config = yaml.safe_load(file)\n",
    "\n",
    "        \n",
    "        if 'api' in config and 'key' in config['api']:\n",
    "            config['api']['key'] = os.getenv('API_KEY')\n",
    "\n",
    "        return config\n"
   ]
  },
  {
   "cell_type": "code",
   "execution_count": 6,
   "id": "72b4eff2",
   "metadata": {},
   "outputs": [],
   "source": [
    "app_config = AppConfig()"
   ]
  },
  {
   "cell_type": "code",
   "execution_count": 8,
   "id": "bef2cc0a",
   "metadata": {},
   "outputs": [
    {
     "data": {
      "text/plain": [
       "<__main__.AppConfig at 0x13eba7c0c50>"
      ]
     },
     "execution_count": 8,
     "metadata": {},
     "output_type": "execute_result"
    }
   ],
   "source": [
    "app_config\n"
   ]
  },
  {
   "cell_type": "code",
   "execution_count": 9,
   "id": "9e1f1473",
   "metadata": {},
   "outputs": [],
   "source": [
    "config = app_config.config"
   ]
  },
  {
   "cell_type": "code",
   "execution_count": null,
   "id": "e6075f3e",
   "metadata": {},
   "outputs": [
    {
     "ename": "NameError",
     "evalue": "name 'conf' is not defined",
     "output_type": "error",
     "traceback": [
      "\u001b[31m---------------------------------------------------------------------------\u001b[39m",
      "\u001b[31mNameError\u001b[39m                                 Traceback (most recent call last)",
      "\u001b[36mCell\u001b[39m\u001b[36m \u001b[39m\u001b[32mIn[11]\u001b[39m\u001b[32m, line 1\u001b[39m\n\u001b[32m----> \u001b[39m\u001b[32m1\u001b[39m \u001b[43mconf\u001b[49m\n",
      "\u001b[31mNameError\u001b[39m: name 'conf' is not defined"
     ]
    }
   ],
   "source": [
    "API_KEY = config['api']['key'] "
   ]
  }
 ],
 "metadata": {
  "kernelspec": {
   "display_name": ".venv",
   "language": "python",
   "name": "python3"
  },
  "language_info": {
   "codemirror_mode": {
    "name": "ipython",
    "version": 3
   },
   "file_extension": ".py",
   "mimetype": "text/x-python",
   "name": "python",
   "nbconvert_exporter": "python",
   "pygments_lexer": "ipython3",
   "version": "3.12.7"
  }
 },
 "nbformat": 4,
 "nbformat_minor": 5
}
